{
 "cells": [
  {
   "cell_type": "code",
   "execution_count": 1,
   "metadata": {},
   "outputs": [],
   "source": [
    "import pandas as pd\n",
    "import numpy as np\n",
    "from sklearn.metrics import mean_squared_error,mean_absolute_error\n",
    "import numpy.linalg as la\n",
    "import math\n",
    "from sklearn.svm import SVR\n",
    "from statsmodels.tsa.arima_model import ARIMA"
   ]
  },
  {
   "cell_type": "code",
   "execution_count": 2,
   "metadata": {},
   "outputs": [],
   "source": [
    "def preprocess_data(data, time_len, rate, seq_len, pre_len):\n",
    "    data1 = np.mat(data)\n",
    "    train_size = int(time_len * rate)\n",
    "    train_data = data1[0:train_size]\n",
    "    test_data = data1[train_size:time_len]\n",
    "    \n",
    "    trainX, trainY, testX, testY = [], [], [], []\n",
    "    for i in range(len(train_data) - seq_len - pre_len):\n",
    "        a = train_data[i: i + seq_len + pre_len]\n",
    "        trainX.append(a[0 : seq_len])\n",
    "        trainY.append(a[seq_len : seq_len + pre_len])\n",
    "    for i in range(len(test_data) - seq_len -pre_len):\n",
    "        b = test_data[i: i + seq_len + pre_len]\n",
    "        testX.append(b[0 : seq_len])\n",
    "        testY.append(b[seq_len : seq_len + pre_len])\n",
    "    return trainX, trainY, testX, testY"
   ]
  },
  {
   "cell_type": "code",
   "execution_count": 3,
   "metadata": {},
   "outputs": [],
   "source": [
    "def evaluation(a,b):\n",
    "    rmse = math.sqrt(mean_squared_error(a,b))\n",
    "    mae = mean_absolute_error(a, b)\n",
    "    F_norm = la.norm(a-b)/la.norm(a)\n",
    "    r2 = 1-((a-b)**2).sum()/((a-a.mean())**2).sum()\n",
    "    var = 1-(np.var(a - b))/np.var(a)\n",
    "    return rmse, mae, 1-F_norm, r2, var"
   ]
  },
  {
   "cell_type": "code",
   "execution_count": 4,
   "metadata": {},
   "outputs": [],
   "source": [
    "path = r'ARIMA.csv'\n",
    "data = pd.read_csv(path)"
   ]
  },
  {
   "cell_type": "code",
   "execution_count": 5,
   "metadata": {},
   "outputs": [],
   "source": [
    "time_len = data.shape[0]\n",
    "num_nodes = data.shape[1]"
   ]
  },
  {
   "cell_type": "code",
   "execution_count": 6,
   "metadata": {},
   "outputs": [
    {
     "name": "stdout",
     "output_type": "stream",
     "text": [
      "1499\n"
     ]
    }
   ],
   "source": [
    "print(time_len)"
   ]
  },
  {
   "cell_type": "code",
   "execution_count": 7,
   "metadata": {},
   "outputs": [
    {
     "name": "stdout",
     "output_type": "stream",
     "text": [
      "2400\n"
     ]
    }
   ],
   "source": [
    "print(num_nodes)"
   ]
  },
  {
   "cell_type": "code",
   "execution_count": 8,
   "metadata": {},
   "outputs": [
    {
     "name": "stdout",
     "output_type": "stream",
     "text": [
      "SVR_rmse:0.050507605048692734 SVR_mae:0.04385717317168552 SVR_acc:0.9070456675408487 SVR_r2:0.9627820843536294 SVR_var:0.9628790434626165\n"
     ]
    }
   ],
   "source": [
    "train_rate = 0.8\n",
    "seq_len = 6\n",
    "pre_len = 1\n",
    "trainX,trainY,testX,testY = preprocess_data(data, time_len, train_rate, seq_len, pre_len)\n",
    "total_rmse, total_mae, total_acc, result = [], [],[],[]\n",
    "for i in range(num_nodes):\n",
    "    data1 = np.mat(data)\n",
    "    a = data1[:,i]\n",
    "    a_X, a_Y, t_X, t_Y = preprocess_data(a, time_len, train_rate, seq_len, pre_len)\n",
    "    a_X = np.array(a_X)\n",
    "    a_X = np.reshape(a_X,[-1, seq_len])\n",
    "    a_Y = np.array(a_Y)\n",
    "    a_Y = np.reshape(a_Y,[-1, pre_len])\n",
    "    a_Y = np.mean(a_Y, axis=1)\n",
    "    t_X = np.array(t_X)\n",
    "    t_X = np.reshape(t_X,[-1, seq_len])\n",
    "    t_Y = np.array(t_Y)\n",
    "    t_Y = np.reshape(t_Y,[-1, pre_len])    \n",
    "       \n",
    "    svr_model=SVR(kernel='rbf')\n",
    "    svr_model.fit(a_X, a_Y)\n",
    "    pre = svr_model.predict(t_X)\n",
    "    pre = np.array(np.transpose(np.mat(pre)))\n",
    "    pre = pre.repeat(pre_len ,axis=1)\n",
    "    result.append(pre)\n",
    "result1 = np.array(result)\n",
    "result1 = np.reshape(result1, [num_nodes,-1])\n",
    "result1 = np.transpose(result1)\n",
    "testY1 = np.array(testY)\n",
    "\n",
    "\n",
    "testY1 = np.reshape(testY1, [-1,num_nodes])\n",
    "total = np.mat(total_acc)\n",
    "total[total<0] = 0\n",
    "rmse1, mae1, acc1,r2,var = evaluation(testY1, result1)\n",
    "print('SVR_rmse:%r'%rmse1,\n",
    "        'SVR_mae:%r'%mae1,\n",
    "        'SVR_acc:%r'%acc1,\n",
    "        'SVR_r2:%r'%r2,\n",
    "        'SVR_var:%r'%var)"
   ]
  },
  {
   "cell_type": "code",
   "execution_count": 9,
   "metadata": {},
   "outputs": [
    {
     "data": {
      "text/plain": [
       "(293, 2400)"
      ]
     },
     "execution_count": 9,
     "metadata": {},
     "output_type": "execute_result"
    }
   ],
   "source": [
    "result1.shape"
   ]
  },
  {
   "cell_type": "code",
   "execution_count": 10,
   "metadata": {},
   "outputs": [],
   "source": [
    "np.savetxt('prediction_svm.csv',result1,delimiter=',')"
   ]
  },
  {
   "cell_type": "code",
   "execution_count": 32,
   "metadata": {},
   "outputs": [],
   "source": [
    "import torch\n",
    "from torchvision import transforms\n",
    "to_pil_image = transforms.ToPILImage()\n",
    "data_prediction = torch.reshape(torch.tensor(result1[5,:],dtype = torch.float32),(1,40,60))\n",
    "img = to_pil_image(data_prediction)"
   ]
  },
  {
   "cell_type": "code",
   "execution_count": 33,
   "metadata": {},
   "outputs": [
    {
     "data": {
      "image/png": "[encoded data removed]",
      "text/plain": [
       "<PIL.Image.Image image mode=L size=60x40 at 0x27142500048>"
      ]
     },
     "execution_count": 33,
     "metadata": {},
     "output_type": "execute_result"
    }
   ],
   "source": [
    "img"
   ]
  },
  {
   "cell_type": "code",
   "execution_count": 34,
   "metadata": {},
   "outputs": [],
   "source": [
    "data_truth = torch.reshape(torch.tensor(testY1[5,:],dtype = torch.float32),(1,40,60))\n",
    "img_truth = to_pil_image(data_truth)"
   ]
  },
  {
   "cell_type": "code",
   "execution_count": 35,
   "metadata": {},
   "outputs": [
    {
     "data": {
      "image/png": "[encoded data removed]",
      "text/plain": [
       "<PIL.Image.Image image mode=L size=60x40 at 0x27142500A08>"
      ]
     },
     "execution_count": 35,
     "metadata": {},
     "output_type": "execute_result"
    }
   ],
   "source": [
    "img_truth"
   ]
  },
  {
   "cell_type": "code",
   "execution_count": 36,
   "metadata": {},
   "outputs": [
    {
     "data": {
      "text/plain": [
       "0.002750039671600041"
      ]
     },
     "execution_count": 36,
     "metadata": {},
     "output_type": "execute_result"
    }
   ],
   "source": [
    "from sklearn.metrics import mean_squared_error as MSE\n",
    "MSE(testY1[5,:],result1[5,:])"
   ]
  },
  {
   "cell_type": "code",
   "execution_count": 37,
   "metadata": {},
   "outputs": [
    {
     "name": "stderr",
     "output_type": "stream",
     "text": [
      "D:\\Anaconda3\\lib\\site-packages\\statsmodels\\base\\model.py:568: ConvergenceWarning: Maximum Likelihood optimization failed to converge. Check mle_retvals\n",
      "  \"Check mle_retvals\", ConvergenceWarning)\n",
      "D:\\Anaconda3\\lib\\site-packages\\statsmodels\\base\\model.py:568: ConvergenceWarning: Maximum Likelihood optimization failed to converge. Check mle_retvals\n",
      "  \"Check mle_retvals\", ConvergenceWarning)\n"
     ]
    },
    {
     "name": "stdout",
     "output_type": "stream",
     "text": [
      "arima_rmse:0.17694974040875555 arima_mae:0.1599552093740063 arima_acc:0.6735114495808311 arima_r2:-0.052570490797224485 arima_var:0.00021515119250021698\n"
     ]
    }
   ],
   "source": [
    "method = 'ARIMA'\n",
    "def preprocess_data_arima(data, time_len, rate):\n",
    "    data1 = np.mat(data)\n",
    "    train_size = int(time_len * rate)\n",
    "    train_data = data1[0:train_size]\n",
    "    test_data = data1[train_size:time_len]\n",
    "    return traain_data,test_data\n",
    "prediction = []\n",
    "truth = []\n",
    "######## ARIMA #########\n",
    "if method == 'ARIMA':\n",
    "    rng = pd.date_range('1/1/2012', periods=1499, freq='D')\n",
    "    a1 = pd.DatetimeIndex(rng)\n",
    "    data.index = a1\n",
    "    num = data.shape[1]   \n",
    "    rmse,mae,acc,r2,var,pred,ori = [],[],[],[],[],[],[]\n",
    "    for i in range(2400):\n",
    "        ts = data.iloc[:,i]\n",
    "        ts_log=np.log(ts)    \n",
    "        ts_log=np.array(ts_log,dtype=np.float)\n",
    "        where_are_inf = np.isinf(ts_log)\n",
    "        ts_log[where_are_inf] = 0\n",
    "        ts_log = pd.Series(ts_log)\n",
    "        ts_log.index = a1\n",
    "        model = ARIMA(ts_log,order=[1,0,0])\n",
    "        properModel = model.fit()\n",
    "        predict_ts = properModel.predict(1200, dynamic=True)\n",
    "        log_recover = np.exp(predict_ts)\n",
    "        ts = ts[log_recover.index]\n",
    "        er_rmse,er_mae,er_acc,r2_score,var_score = evaluation(ts,log_recover)\n",
    "        prediction.append(log_recover)\n",
    "        truth.append(ts)\n",
    "        rmse.append(er_rmse)\n",
    "        mae.append(er_mae)\n",
    "        acc.append(er_acc)\n",
    "        r2.append(r2_score)\n",
    "        var.append(var_score)\n",
    "    acc1 = np.mat(acc)\n",
    "    acc1[acc1 < 0] = 0\n",
    "    print('arima_rmse:%r'%(np.mean(rmse)),\n",
    "          'arima_mae:%r'%(np.mean(mae)),\n",
    "          'arima_acc:%r'%(np.mean(acc1)),\n",
    "          'arima_r2:%r'%(np.mean(r2)),\n",
    "          'arima_var:%r'%(np.mean(var)))"
   ]
  },
  {
   "cell_type": "code",
   "execution_count": 38,
   "metadata": {},
   "outputs": [
    {
     "data": {
      "text/plain": [
       "2015-04-15   -0.901892\n",
       "2015-04-16   -0.814968\n",
       "2015-04-17   -0.743664\n",
       "2015-04-18   -0.685173\n",
       "2015-04-19   -0.637192\n",
       "                ...   \n",
       "2016-02-03   -0.418161\n",
       "2016-02-04   -0.418161\n",
       "2016-02-05   -0.418161\n",
       "2016-02-06   -0.418161\n",
       "2016-02-07   -0.418161\n",
       "Freq: D, Length: 299, dtype: float64"
      ]
     },
     "execution_count": 38,
     "metadata": {},
     "output_type": "execute_result"
    }
   ],
   "source": [
    "predict_ts"
   ]
  },
  {
   "cell_type": "code",
   "execution_count": 39,
   "metadata": {},
   "outputs": [
    {
     "data": {
      "text/plain": [
       "2015-04-15    0.405801\n",
       "2015-04-16    0.442653\n",
       "2015-04-17    0.475369\n",
       "2015-04-18    0.504003\n",
       "2015-04-19    0.528775\n",
       "                ...   \n",
       "2016-02-03    0.658256\n",
       "2016-02-04    0.658256\n",
       "2016-02-05    0.658256\n",
       "2016-02-06    0.658256\n",
       "2016-02-07    0.658256\n",
       "Freq: D, Length: 299, dtype: float64"
      ]
     },
     "execution_count": 39,
     "metadata": {},
     "output_type": "execute_result"
    }
   ],
   "source": [
    "log_recover"
   ]
  },
  {
   "cell_type": "code",
   "execution_count": 40,
   "metadata": {},
   "outputs": [
    {
     "data": {
      "text/plain": [
       "2015-04-15    0.337\n",
       "2015-04-16    0.435\n",
       "2015-04-17    0.576\n",
       "2015-04-18    0.773\n",
       "2015-04-19    0.859\n",
       "              ...  \n",
       "2016-02-03    0.945\n",
       "2016-02-04    0.922\n",
       "2016-02-05    0.882\n",
       "2016-02-06    0.745\n",
       "2016-02-07    0.541\n",
       "Freq: D, Name: 3.37E-01.35, Length: 299, dtype: float64"
      ]
     },
     "execution_count": 40,
     "metadata": {},
     "output_type": "execute_result"
    }
   ],
   "source": [
    "ts"
   ]
  },
  {
   "cell_type": "code",
   "execution_count": 62,
   "metadata": {},
   "outputs": [],
   "source": [
    "prediction = np.array(prediction)\n",
    "data_prediction = torch.reshape(torch.tensor(prediction[:,4],dtype = torch.float32),(1,40,60))\n",
    "img = to_pil_image(data_prediction)"
   ]
  },
  {
   "cell_type": "code",
   "execution_count": 63,
   "metadata": {},
   "outputs": [
    {
     "data": {
      "image/png": "[encoded data removed]",
      "text/plain": [
       "<PIL.Image.Image image mode=L size=60x40 at 0x271428F6708>"
      ]
     },
     "execution_count": 63,
     "metadata": {},
     "output_type": "execute_result"
    }
   ],
   "source": [
    "img"
   ]
  },
  {
   "cell_type": "code",
   "execution_count": 64,
   "metadata": {},
   "outputs": [],
   "source": [
    "truth = np.array(truth)\n",
    "data_prediction = torch.reshape(torch.tensor(truth[:,4],dtype = torch.float32),(1,40,60))\n",
    "img_s = to_pil_image(data_prediction)"
   ]
  },
  {
   "cell_type": "code",
   "execution_count": 65,
   "metadata": {},
   "outputs": [
    {
     "data": {
      "image/png": "[encoded data removed]",
      "text/plain": [
       "<PIL.Image.Image image mode=L size=60x40 at 0x2714297B508>"
      ]
     },
     "execution_count": 65,
     "metadata": {},
     "output_type": "execute_result"
    }
   ],
   "source": [
    "img_s"
   ]
  },
  {
   "cell_type": "code",
   "execution_count": 66,
   "metadata": {},
   "outputs": [
    {
     "data": {
      "text/plain": [
       "0.06077039173689738"
      ]
     },
     "execution_count": 66,
     "metadata": {},
     "output_type": "execute_result"
    }
   ],
   "source": [
    "MSE(prediction[:,4],truth[:,4])"
   ]
  },
  {
   "cell_type": "code",
   "execution_count": null,
   "metadata": {},
   "outputs": [],
   "source": []
  }
 ],
 "metadata": {
  "kernelspec": {
   "display_name": "Python 3",
   "language": "python",
   "name": "python3"
  },
  "language_info": {
   "codemirror_mode": {
    "name": "ipython",
    "version": 3
   },
   "file_extension": ".py",
   "mimetype": "text/x-python",
   "name": "python",
   "nbconvert_exporter": "python",
   "pygments_lexer": "ipython3",
   "version": "3.7.6"
  }
 },
 "nbformat": 4,
 "nbformat_minor": 4
}
